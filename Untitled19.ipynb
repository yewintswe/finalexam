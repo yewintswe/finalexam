{
  "nbformat": 4,
  "nbformat_minor": 0,
  "metadata": {
    "colab": {
      "provenance": []
    },
    "kernelspec": {
      "name": "python3",
      "display_name": "Python 3"
    },
    "language_info": {
      "name": "python"
    }
  },
  "cells": [
    {
      "cell_type": "code",
      "source": [
        "!pip install pandas\n",
        "\n",
        "\n"
      ],
      "metadata": {
        "id": "l2bJy1lv0Ziw"
      },
      "execution_count": null,
      "outputs": []
    },
    {
      "cell_type": "code",
      "source": [
        "import pandas as pd\n",
        "b = {'city': 'Cupertino', 'phone': '408 996 1010', 'state': 'CA', 'country': 'United States', 'website': 'https://www.apple.com'  'recommendationKey' 'buy', 'gross profits': 152836000000, 'freeCashflow': 73295003648, 'targetMedianPrice': 170, 'currentPrice': 174.56, 'earningsGrowth': 0.662, 'currentRatio': 1.075}\n",
        "print('Country and gross profits are' ,  b['country'], 'and',b['gross profits'])\n",
        "df=pd.DataFrame(dict.items(b))\n",
        "print(df)"
      ],
      "metadata": {
        "id": "s-3bazOQ1GNJ"
      },
      "execution_count": null,
      "outputs": []
    },
    {
      "cell_type": "markdown",
      "source": [],
      "metadata": {
        "id": "1FsRTvc63sac"
      }
    },
    {
      "cell_type": "code",
      "source": [
        "import pandas as pd\n",
        "df=pd.read_csv(\"rentals.csv\")\n",
        "df.columns\n",
        "df.groupby('property_type')[['price']].mean()\n",
        "\n",
        "import matplotlib.pyplot as plt \n",
        "price_distribution = df[df['property_type']=='price']\n",
        "price_distribution2 = df[df['property_type']=='price']\n",
        "plt.boxplot([price_distribution['price'], price_distribution2['price']], labels = ['price_distribution', 'price_distribution2'])\n",
        "plt.show()"
      ],
      "metadata": {
        "colab": {
          "base_uri": "https://localhost:8080/",
          "height": 266
        },
        "id": "ee2OsGqc2a-a",
        "outputId": "1453d662-21db-4e3e-dfe5-f0da63394cda"
      },
      "execution_count": 33,
      "outputs": [
        {
          "output_type": "display_data",
          "data": {
            "text/plain": [
              "<Figure size 432x288 with 1 Axes>"
            ],
            "image/png": "[encoded data removed]"
          },
          "metadata": {
            "needs_background": "light"
          }
        }
      ]
    },
    {
      "cell_type": "code",
      "source": [],
      "metadata": {
        "id": "rxZKZIhH8GA_"
      },
      "execution_count": null,
      "outputs": []
    }
  ]
}